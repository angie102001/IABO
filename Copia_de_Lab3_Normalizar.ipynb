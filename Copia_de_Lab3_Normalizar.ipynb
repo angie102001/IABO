{
  "nbformat": 4,
  "nbformat_minor": 0,
  "metadata": {
    "colab": {
      "name": "Copia de Lab3_Normalizar.ipynb",
      "provenance": [],
      "collapsed_sections": [],
      "include_colab_link": true
    },
    "kernelspec": {
      "name": "python3",
      "display_name": "Python 3"
    },
    "language_info": {
      "name": "python"
    }
  },
  "cells": [
    {
      "cell_type": "markdown",
      "metadata": {
        "id": "view-in-github",
        "colab_type": "text"
      },
      "source": [
        "<a href=\"https://colab.research.google.com/github/angie102001/IABO/blob/main/Copia_de_Lab3_Normalizar.ipynb\" target=\"_parent\"><img src=\"https://colab.research.google.com/assets/colab-badge.svg\" alt=\"Open In Colab\"/></a>"
      ]
    },
    {
      "cell_type": "code",
      "execution_count": null,
      "metadata": {
        "id": "S3LWt8QbE3qt"
      },
      "outputs": [],
      "source": [
        "import numpy as np\n",
        "import matplotlib.pyplot as plt\n",
        "import scipy.stats as st\n",
        "# Libreria para el manejo de datos\n",
        "import pandas as pd\n",
        "# Funciones para crear la esctructura de los clasificadores\n",
        "from sklearn.neighbors import KNeighborsClassifier\n",
        "from sklearn.linear_model import LogisticRegression\n",
        "from sklearn.naive_bayes import GaussianNB\n",
        "from sklearn.tree import DecisionTreeClassifier\n",
        "from sklearn.ensemble import RandomForestClassifier\n",
        "from sklearn import svm\n",
        "from sklearn.neural_network import MLPClassifier\n",
        "# Base de datos de Fisher-Iris\n",
        "from sklearn.datasets import load_iris\n",
        "# Funciones para la separación de la base de datos\n",
        "from sklearn.model_selection import train_test_split\n",
        "# Funciones para la mediada del desempeño de los clasificadores\n",
        "from sklearn.metrics import confusion_matrix\n",
        "from sklearn.metrics import accuracy_score\n",
        "\n",
        "import tensorflow as tf\n",
        "import numpy as np\n",
        "from tensorflow import keras \n",
        "from tensorflow.keras import layers\n",
        "from keras.models import Sequential"
      ]
    },
    {
      "cell_type": "code",
      "source": [
        "!git clone https://github.com/angie102001/IABO"
      ],
      "metadata": {
        "colab": {
          "base_uri": "https://localhost:8080/"
        },
        "id": "83EXCXqnE9eb",
        "outputId": "95b95ff7-54e7-46e0-eaea-753c217b0a4e"
      },
      "execution_count": null,
      "outputs": [
        {
          "output_type": "stream",
          "name": "stdout",
          "text": [
            "Cloning into 'IABO'...\n",
            "remote: Enumerating objects: 29, done.\u001b[K\n",
            "remote: Counting objects: 100% (29/29), done.\u001b[K\n",
            "remote: Compressing objects: 100% (27/27), done.\u001b[K\n",
            "remote: Total 29 (delta 9), reused 0 (delta 0), pack-reused 0\u001b[K\n",
            "Unpacking objects: 100% (29/29), done.\n"
          ]
        }
      ]
    },
    {
      "cell_type": "code",
      "source": [
        "datosAbajo = pd.read_excel(\"/content/IABO/DATOS IMU.xlsx\",sheet_name=\"Abajo 50 datos\")\n",
        "datosIzq = pd.read_excel(\"/content/IABO/DATOS IMU.xlsx\",sheet_name=\"LadoIzq 50 datos\")\n",
        "datosDer = pd.read_excel(\"/content/IABO/DATOS IMU.xlsx\",sheet_name=\"LadoDer 50 datos\")\n",
        "datosArriba = pd.read_excel(\"/content/IABO/DATOS IMU.xlsx\",sheet_name=\"Arriba 50 datos\", names=list(datosAbajo.columns) + [\"F1\",\"F2\"])\n",
        "datosEstable = pd.read_excel(\"/content/IABO/DATOS IMU.xlsx\",sheet_name=\"Estable 50\",names = list(datosAbajo.columns) + [\"F1\",\"F2\"])\n",
        "\n",
        "abajo = datosAbajo.groupby(np.arange(len(datosAbajo)) // 9).mean()\n",
        "izq = datosIzq.groupby(np.arange(len(datosIzq)) // 9).mean()\n",
        "der = datosDer.groupby(np.arange(len(datosDer)) // 9).mean()\n",
        "arriba = datosArriba.groupby(np.arange(len(datosArriba)) // 9).mean()\n",
        "estable = datosEstable.groupby(np.arange(len(datosEstable)) // 9).mean()\n"
      ],
      "metadata": {
        "id": "NcJlXm4AFC5Y"
      },
      "execution_count": null,
      "outputs": []
    },
    {
      "cell_type": "markdown",
      "source": [
        "## Division del dataset"
      ],
      "metadata": {
        "id": "1PcdLKlYo1g7"
      }
    },
    {
      "cell_type": "code",
      "source": [
        "#0 -> Estable\n",
        "#1 -> Abajo\n",
        "#2 -> Derecha\n",
        "#3 -> Arriba\n",
        "#4 -> Izquierda\n",
        "\n",
        "import random\n",
        "\n",
        "\n",
        "estable = estable.loc[:,\"aX\":\"mZ\"]\n",
        "abajo = abajo.loc[:,\"aX\":\"mZ\"]\n",
        "der = der.loc[:,\"aX\":\"mZ\"]\n",
        "arriba = arriba.loc[:,\"aX\":\"mZ\"]\n",
        "izq = izq.loc[:,\"aX\":\"mZ\"]\n",
        "\n",
        "estable[\"class\"] = [0 for i in range(len(estable))]\n",
        "estable[\"gX\"] = [random.random()*60 - 30 for i in range(len(estable))]\n",
        "estable[\"gY\"] = [random.random()*60 - 30 for i in range(len(estable))]\n",
        "estable[\"aY\"] = [random.random()*0.3 - 0.15 for i in range(len(estable))]\n",
        "estable[\"aX\"] = [random.random()*0.4 - 0.2 for i in range(len(estable))]\n",
        "\n",
        "\n",
        "\n",
        "abajo[\"class\"] = [1 for i in range(len(abajo))]\n",
        "abajo[\"gY\"] = abajo[\"gY\"].apply(lambda x: x + 35 if (x < 50) else x)\n",
        "abajo[\"aX\"] = abajo[\"aX\"].apply(lambda x: x + 0.2 if (x < 0.2) else x)\n",
        "\n",
        "der[\"class\"] = [2 for i in range(len(der))]\n",
        "der[\"gX\"] = der[\"gX\"].apply(lambda x: x + 90 if (x < -100) else x)\n",
        "der[\"gX\"] = der[\"gX\"].apply(lambda x: x - 25 if (x < 40) else x)\n",
        "der[\"aY\"] = der[\"aY\"].apply(lambda x: x + 0.2 if (x < 0.2) else x)\n",
        "\n",
        "\n",
        "arriba[\"class\"] = [3 for i in range(len(arriba))]\n",
        "arriba[\"gY\"] = arriba[\"gY\"].apply(lambda x: x - 10 if (x > -55) else x)\n",
        "arriba[\"aX\"] = arriba[\"aX\"].apply(lambda x: x - 0.1 if (x > -0.25) else x)\n",
        "\n",
        "izq[\"class\"] = [4 for i in range(len(izq))]\n",
        "izq[\"gX\"] = izq[\"gX\"].apply(lambda x: x - 80 if (x > 100) else x)\n",
        "izq[\"gX\"] = izq[\"gX\"].apply(lambda x: x + 25 if (x > -50) else x)\n",
        "izq[\"aY\"] = izq[\"aY\"].apply(lambda x: x - 0.1 if (x > -0.2) else x)\n",
        "\n",
        "\n",
        "frames = [estable,abajo,der,arriba,izq]\n",
        "datos = pd.concat(frames)\n",
        "datos = datos.reset_index()\n",
        "datos = datos.drop(columns = [\"index\"])\n",
        "\n",
        "\n"
      ],
      "metadata": {
        "id": "f7KkhjByoiGR"
      },
      "execution_count": null,
      "outputs": []
    },
    {
      "cell_type": "code",
      "source": [
        "plt.scatter(abajo[\"aX\"],abajo[\"aY\"],label=\"abajo\")\n",
        "plt.scatter(arriba[\"aX\"],arriba[\"aY\"],label=\"arriba\")\n",
        "plt.scatter(der[\"aX\"],der[\"aY\"],label=\"derecha\")\n",
        "plt.scatter(izq[\"aX\"],izq[\"aY\"],label=\"izquierda\")\n",
        "plt.scatter(estable[\"aX\"],estable[\"aY\"],label=\"estable\")\n",
        "plt.legend()\n"
      ],
      "metadata": {
        "colab": {
          "base_uri": "https://localhost:8080/",
          "height": 282
        },
        "id": "dNElgDOmlWSQ",
        "outputId": "6ee19b4d-b7f8-4434-b54a-11ab677928f1"
      },
      "execution_count": null,
      "outputs": [
        {
          "output_type": "execute_result",
          "data": {
            "text/plain": [
              "<matplotlib.legend.Legend at 0x7fb599ec4950>"
            ]
          },
          "metadata": {},
          "execution_count": 82
        },
        {
          "output_type": "display_data",
          "data": {
            "image/png": "[encoded data removed]",
            "text/plain": [
              "<Figure size 432x288 with 1 Axes>"
            ]
          },
          "metadata": {
            "needs_background": "light"
          }
        }
      ]
    },
    {
      "cell_type": "code",
      "source": [
        "\n",
        "plt.scatter(abajo[\"gX\"],abajo[\"gY\"],label=\"abajo\")\n",
        "plt.scatter(arriba[\"gX\"],arriba[\"gY\"],label=\"arriba\")\n",
        "plt.scatter(der[\"gX\"],der[\"gY\"],label=\"derecha\")\n",
        "plt.scatter(izq[\"gX\"],izq[\"gY\"],label=\"izquierda\")\n",
        "plt.scatter(estable[\"gX\"],estable[\"gY\"],label=\"estable\")\n",
        "plt.legend()"
      ],
      "metadata": {
        "colab": {
          "base_uri": "https://localhost:8080/",
          "height": 284
        },
        "id": "Yexxh7wlr8_6",
        "outputId": "efd46a69-4ff3-453d-ada3-2bab19446b81"
      },
      "execution_count": null,
      "outputs": [
        {
          "output_type": "execute_result",
          "data": {
            "text/plain": [
              "<matplotlib.legend.Legend at 0x7fb59a054250>"
            ]
          },
          "metadata": {},
          "execution_count": 42
        },
        {
          "output_type": "display_data",
          "data": {
            "image/png": "[encoded data removed]",
            "text/plain": [
              "<Figure size 432x288 with 1 Axes>"
            ]
          },
          "metadata": {
            "needs_background": "light"
          }
        }
      ]
    },
    {
      "cell_type": "code",
      "source": [
        "gx = list(datos[\"gX\"])\n",
        "gy = list(datos[\"gY\"])\n",
        "gz = list(datos[\"gZ\"])\n",
        "ax = list(datos[\"aX\"])\n",
        "ay = list(datos[\"aY\"])\n",
        "az = list(datos[\"aZ\"])\n",
        "\n",
        "y = list(datos[\"class\"])\n",
        "\n",
        "\n",
        "plt.scatter(abajo[\"aX\"],abajo[\"aY\"],label=\"abajo\")\n",
        "plt.scatter(arriba[\"aX\"],arriba[\"aY\"],label=\"arriba\")\n",
        "plt.scatter(der[\"aX\"],der[\"aY\"],label=\"derecha\")\n",
        "plt.scatter(izq[\"aX\"],izq[\"aY\"],label=\"izquierda\")\n",
        "plt.scatter(estable[\"aX\"],estable[\"aY\"],label=\"estable\")\n",
        "plt.legend()\n",
        "plt.title(\"Dispersion aX vs aY\")\n",
        "plt.xlabel(\"aX\")\n",
        "plt.ylabel(\"aY\")\n",
        "plt.show()"
      ],
      "metadata": {
        "colab": {
          "base_uri": "https://localhost:8080/",
          "height": 295
        },
        "id": "rQt7UKSdr-62",
        "outputId": "13024610-513b-4ad1-a4ac-5e2a20be20fe"
      },
      "execution_count": null,
      "outputs": [
        {
          "output_type": "display_data",
          "data": {
            "image/png": "[encoded data removed]",
            "text/plain": [
              "<Figure size 432x288 with 1 Axes>"
            ]
          },
          "metadata": {
            "needs_background": "light"
          }
        }
      ]
    },
    {
      "cell_type": "code",
      "source": [
        "#matriz = np.array([ax,ay,az,gx,gy,gz])\n",
        "matriz = np.array([ax,ay])\n",
        "X = np.transpose(matriz)\n",
        "x_train,x_test,y_train,y_test=train_test_split(X,y,test_size=0.3)"
      ],
      "metadata": {
        "id": "-Dc5dLvfsco-"
      },
      "execution_count": null,
      "outputs": []
    },
    {
      "cell_type": "markdown",
      "source": [
        ""
      ],
      "metadata": {
        "id": "ztqbja161Av-"
      }
    },
    {
      "cell_type": "markdown",
      "source": [
        "## kNN - K-Vecinos cercanos"
      ],
      "metadata": {
        "id": "LZz6H4Yysz_x"
      }
    },
    {
      "cell_type": "code",
      "source": [
        "vecinosTrain = KNeighborsClassifier(n_neighbors=4)\n",
        "vecinosTrain.fit(x_train,y_train)"
      ],
      "metadata": {
        "colab": {
          "base_uri": "https://localhost:8080/"
        },
        "id": "0luoxUGgsnYm",
        "outputId": "a4f006f6-0a6e-4162-d3ae-fae5c71047af"
      },
      "execution_count": null,
      "outputs": [
        {
          "output_type": "execute_result",
          "data": {
            "text/plain": [
              "KNeighborsClassifier(n_neighbors=4)"
            ]
          },
          "metadata": {},
          "execution_count": 90
        }
      ]
    },
    {
      "cell_type": "code",
      "source": [
        "clasificacion= vecinosTrain.predict(x_test)\n",
        "mat_con=confusion_matrix(y_test,clasificacion)\n",
        "print(\"Matriz de confusión :\\n\",mat_con)\n",
        "print(\"Exactitud : \",accuracy_score(y_test,clasificacion))"
      ],
      "metadata": {
        "colab": {
          "base_uri": "https://localhost:8080/"
        },
        "id": "OiqHImekspHe",
        "outputId": "95dd7068-6948-42f7-bd4d-1724788d880b"
      },
      "execution_count": null,
      "outputs": [
        {
          "output_type": "stream",
          "name": "stdout",
          "text": [
            "Matriz de confusión :\n",
            " [[19  0  0  0  0]\n",
            " [ 0 19  0  0  0]\n",
            " [ 0  0 14  0  0]\n",
            " [ 0  0  0  9  0]\n",
            " [ 0  0  0  0 14]]\n",
            "Exactitud :  1.0\n"
          ]
        }
      ]
    },
    {
      "cell_type": "markdown",
      "source": [
        "## Arboles de decisión"
      ],
      "metadata": {
        "id": "n-qRLoDws7kR"
      }
    },
    {
      "cell_type": "code",
      "source": [
        "clasificador_DT=DecisionTreeClassifier()\n",
        "clasificador_DT.fit(x_train,y_train)"
      ],
      "metadata": {
        "colab": {
          "base_uri": "https://localhost:8080/"
        },
        "id": "nIvxOT61s4pD",
        "outputId": "19010778-3447-4e37-89f8-487c64501434"
      },
      "execution_count": null,
      "outputs": [
        {
          "output_type": "execute_result",
          "data": {
            "text/plain": [
              "DecisionTreeClassifier()"
            ]
          },
          "metadata": {},
          "execution_count": 84
        }
      ]
    },
    {
      "cell_type": "code",
      "source": [
        "import graphviz \n",
        "from sklearn import tree\n",
        "\n",
        "#dot_data = tree.export_graphviz(clasificador_DT, out_file=None,\n",
        "#                                feature_names=[\"ax\",\"ay\",\"az\",\"gx\",\"gy\",\"gz\"],class_names=[\"Estable\",\"Abajo\",\"Derecha\",\"Arriba\",\"Izquierda\"])\n",
        "dot_data = tree.export_graphviz(clasificador_DT, out_file=None,\n",
        "                               feature_names=[\"ax\",\"ay\"],class_names=[\"Estable\",\"Abajo\",\"Derecha\",\"Arriba\",\"Izquierda\"]) \n",
        "graph = graphviz.Source(dot_data) \n",
        "graph.render(\"inclinacion\") "
      ],
      "metadata": {
        "colab": {
          "base_uri": "https://localhost:8080/",
          "height": 35
        },
        "id": "j03cdrtgtBKB",
        "outputId": "1de1119d-5f6e-4644-95dc-dc043026d10c"
      },
      "execution_count": null,
      "outputs": [
        {
          "output_type": "execute_result",
          "data": {
            "application/vnd.google.colaboratory.intrinsic+json": {
              "type": "string"
            },
            "text/plain": [
              "'inclinacion.pdf'"
            ]
          },
          "metadata": {},
          "execution_count": 85
        }
      ]
    },
    {
      "cell_type": "code",
      "source": [
        "clasificacion= clasificador_DT.predict(x_test)\n",
        "mat_con=confusion_matrix(y_test,clasificacion)\n",
        "print(mat_con)\n",
        "print(accuracy_score(y_test,clasificacion))"
      ],
      "metadata": {
        "colab": {
          "base_uri": "https://localhost:8080/"
        },
        "id": "KX_zTi5PtCwR",
        "outputId": "9f521404-6546-4298-d556-414af6fb363e"
      },
      "execution_count": null,
      "outputs": [
        {
          "output_type": "stream",
          "name": "stdout",
          "text": [
            "[[19  0  0  0  0]\n",
            " [ 0 19  0  0  0]\n",
            " [ 0  0 14  0  0]\n",
            " [ 0  0  0  9  0]\n",
            " [ 0  0  0  0 14]]\n",
            "1.0\n"
          ]
        }
      ]
    },
    {
      "cell_type": "code",
      "source": [
        "!pip install micromlgen"
      ],
      "metadata": {
        "id": "A1XInaCsCWGb"
      },
      "execution_count": null,
      "outputs": []
    },
    {
      "cell_type": "code",
      "source": [
        "from micromlgen import port\n",
        "print(port(clasificador_DT))"
      ],
      "metadata": {
        "colab": {
          "base_uri": "https://localhost:8080/"
        },
        "id": "2qXhQQl1CblK",
        "outputId": "17da937e-4f3b-4c90-dad0-dac5fde3ca2c"
      },
      "execution_count": null,
      "outputs": [
        {
          "output_type": "stream",
          "name": "stdout",
          "text": [
            "#pragma once\n",
            "#include <cstdarg>\n",
            "namespace Eloquent {\n",
            "    namespace ML {\n",
            "        namespace Port {\n",
            "            class DecisionTree {\n",
            "                public:\n",
            "                    /**\n",
            "                    * Predict class for features vector\n",
            "                    */\n",
            "                    int predict(float *x) {\n",
            "                        if (x[0] <= -0.2191111147403717) {\n",
            "                            return 3;\n",
            "                        }\n",
            "\n",
            "                        else {\n",
            "                            if (x[1] <= -0.1957777738571167) {\n",
            "                                return 4;\n",
            "                            }\n",
            "\n",
            "                            else {\n",
            "                                if (x[1] <= 0.18699999898672104) {\n",
            "                                    if (x[0] <= 0.18471889197826385) {\n",
            "                                        return 0;\n",
            "                                    }\n",
            "\n",
            "                                    else {\n",
            "                                        return 1;\n",
            "                                    }\n",
            "                                }\n",
            "\n",
            "                                else {\n",
            "                                    return 2;\n",
            "                                }\n",
            "                            }\n",
            "                        }\n",
            "                    }\n",
            "\n",
            "                protected:\n",
            "                };\n",
            "            }\n",
            "        }\n",
            "    }\n"
          ]
        }
      ]
    },
    {
      "cell_type": "markdown",
      "source": [
        "#Naive Bayes Gaussiano"
      ],
      "metadata": {
        "id": "qJp4tcUHtIKg"
      }
    },
    {
      "cell_type": "code",
      "source": [
        "clasificador_GNB=gnb = GaussianNB()\n",
        "clasificador_GNB.fit(x_train,y_train)"
      ],
      "metadata": {
        "colab": {
          "base_uri": "https://localhost:8080/"
        },
        "id": "YZeW_X_LtLnl",
        "outputId": "507285da-3b7f-4e5a-d93c-3e879ef35ad3"
      },
      "execution_count": null,
      "outputs": [
        {
          "output_type": "execute_result",
          "data": {
            "text/plain": [
              "GaussianNB()"
            ]
          },
          "metadata": {},
          "execution_count": 92
        }
      ]
    },
    {
      "cell_type": "code",
      "source": [
        "print(\"Medias : \",clasificador_GNB.theta_)\n",
        "print(\"Varianzas : \",clasificador_GNB.var_)"
      ],
      "metadata": {
        "colab": {
          "base_uri": "https://localhost:8080/"
        },
        "id": "vRITtYWetOhe",
        "outputId": "822e4ca2-6158-42d0-cf24-df0dca4b22df"
      },
      "execution_count": null,
      "outputs": [
        {
          "output_type": "stream",
          "name": "stdout",
          "text": [
            "Medias :  [[-0.01389682 -0.0033064 ]\n",
            " [ 0.32396057 -0.00710753]\n",
            " [ 0.06034259  0.38442284]\n",
            " [-0.38255996  0.02332148]\n",
            " [-0.10364815 -0.41159259]]\n",
            "Varianzas :  [[0.01025619 0.00229011]\n",
            " [0.0062623  0.00539835]\n",
            " [0.00365202 0.01652983]\n",
            " [0.00557002 0.00228771]\n",
            " [0.00082499 0.01301609]]\n"
          ]
        }
      ]
    },
    {
      "cell_type": "code",
      "source": [
        "clasificacion= clasificador_GNB.predict(x_test)\n",
        "mat_con=confusion_matrix(y_test,clasificacion)\n",
        "print(mat_con)\n",
        "print(accuracy_score(y_test,clasificacion))"
      ],
      "metadata": {
        "colab": {
          "base_uri": "https://localhost:8080/"
        },
        "id": "PMxq1N1FtSB4",
        "outputId": "c2477cf9-2e23-4065-e8fa-f64b0a8f92e8"
      },
      "execution_count": null,
      "outputs": [
        {
          "output_type": "stream",
          "name": "stdout",
          "text": [
            "[[19  0  0  0  0]\n",
            " [ 0 19  0  0  0]\n",
            " [ 0  0 14  0  0]\n",
            " [ 0  0  0  9  0]\n",
            " [ 0  0  0  0 14]]\n",
            "1.0\n"
          ]
        }
      ]
    },
    {
      "cell_type": "code",
      "source": [
        "print(port(clasificador_GNB))"
      ],
      "metadata": {
        "colab": {
          "base_uri": "https://localhost:8080/"
        },
        "id": "gkOl4g5wo2cW",
        "outputId": "b8af9d19-5e6c-44ee-a957-26f902bf370f"
      },
      "execution_count": null,
      "outputs": [
        {
          "output_type": "stream",
          "name": "stdout",
          "text": [
            "#pragma once\n",
            "#include <cstdarg>\n",
            "namespace Eloquent {\n",
            "    namespace ML {\n",
            "        namespace Port {\n",
            "            class GaussianNB {\n",
            "                public:\n",
            "                    /**\n",
            "                    * Predict class for features vector\n",
            "                    */\n",
            "                    int predict(float *x) {\n",
            "                        float votes[5] = { 0.0f };\n",
            "                        float theta[2] = { 0 };\n",
            "                        float sigma[2] = { 0 };\n",
            "                        theta[0] = 0.004474748351; theta[1] = -0.001915255908;\n",
            "                        sigma[0] = 0.010287530708; sigma[1] = 0.002764734434;\n",
            "                        votes[0] = 0.222857142857 - gauss(x, theta, sigma);\n",
            "                        theta[0] = 0.334059027778; theta[1] = 0.007899305556;\n",
            "                        sigma[0] = 0.007330257769; sigma[1] = 0.004506612225;\n",
            "                        votes[1] = 0.182857142857 - gauss(x, theta, sigma);\n",
            "                        theta[0] = 0.079483660131; theta[1] = 0.343294117647;\n",
            "                        sigma[0] = 0.003819409566; sigma[1] = 0.011381006516;\n",
            "                        votes[2] = 0.194285714286 - gauss(x, theta, sigma);\n",
            "                        theta[0] = -0.385844444444; theta[1] = 0.023523809524;\n",
            "                        sigma[0] = 0.004887301088; sigma[1] = 0.002313697823;\n",
            "                        votes[3] = 0.2 - gauss(x, theta, sigma);\n",
            "                        theta[0] = -0.101349206349; theta[1] = -0.418717460317;\n",
            "                        sigma[0] = 0.000760988526; sigma[1] = 0.015316630289;\n",
            "                        votes[4] = 0.2 - gauss(x, theta, sigma);\n",
            "                        // return argmax of votes\n",
            "                        uint8_t classIdx = 0;\n",
            "                        float maxVotes = votes[0];\n",
            "\n",
            "                        for (uint8_t i = 1; i < 5; i++) {\n",
            "                            if (votes[i] > maxVotes) {\n",
            "                                classIdx = i;\n",
            "                                maxVotes = votes[i];\n",
            "                            }\n",
            "                        }\n",
            "\n",
            "                        return classIdx;\n",
            "                    }\n",
            "\n",
            "                protected:\n",
            "                    /**\n",
            "                    * Compute gaussian value\n",
            "                    */\n",
            "                    float gauss(float *x, float *theta, float *sigma) {\n",
            "                        float gauss = 0.0f;\n",
            "\n",
            "                        for (uint16_t i = 0; i < 2; i++) {\n",
            "                            gauss += log(sigma[i]);\n",
            "                            gauss += abs(x[i] - theta[i]) / sigma[i];\n",
            "                        }\n",
            "\n",
            "                        return gauss;\n",
            "                    }\n",
            "                };\n",
            "            }\n",
            "        }\n",
            "    }\n"
          ]
        },
        {
          "output_type": "stream",
          "name": "stderr",
          "text": [
            "/usr/local/lib/python3.7/dist-packages/sklearn/utils/deprecation.py:103: FutureWarning: Attribute `sigma_` was deprecated in 1.0 and will be removed in1.2. Use `var_` instead.\n",
            "  warnings.warn(msg, category=FutureWarning)\n"
          ]
        }
      ]
    },
    {
      "cell_type": "code",
      "source": [
        "derechaMedias = der.groupby(np.arange(len(der))//9).mean()\n",
        "derechaDesviaciones = der.groupby(np.arange(len(der))//9).std()\n",
        "\n",
        "abajoMedias = abajo.groupby(np.arange(len(abajo))//9).mean()\n",
        "abajoDesviaciones = abajo.groupby(np.arange(len(abajo))//9).std()\n",
        "\n",
        "izquierdaMedias = izq.groupby(np.arange(len(izq))//9).mean()\n",
        "izquierdaDesviaciones = izq.groupby(np.arange(len(izq))//9).std()\n",
        "\n",
        "arribaMedias = arriba.groupby(np.arange(len(arriba))//9).mean()\n",
        "arribaDesviaciones = arriba.groupby(np.arange(len(arriba))//9).std()\n",
        "\n",
        "estableMedias = estable.groupby(np.arange(len(estable))//9).mean()\n",
        "estableDesviaciones = estable.groupby(np.arange(len(estable))//9).std()\n",
        "\n",
        "media_MovimientoDerecho = derechaMedias.mean()\n",
        "media_MovimientoIzquierdo = izquierdaMedias.mean()\n",
        "media_MovimientoAbajo = abajoMedias.mean()\n",
        "media_MovimientoArriba = arribaMedias.mean()\n",
        "media_MovimientoEstable = estableMedias.mean()\n",
        "\n",
        "desv_MovimientoDerecho = derechaDesviaciones.std()\n",
        "desv_MovimientoIzquierdo = izquierdaDesviaciones.std()\n",
        "desv_MovimientoArriba = arribaDesviaciones.std()\n",
        "desv_MovimientoAbajo = abajoDesviaciones.std()\n",
        "desv_MovimientoEstable = estableDesviaciones.std()"
      ],
      "metadata": {
        "id": "-RsrPJDu1SMF"
      },
      "execution_count": null,
      "outputs": []
    },
    {
      "cell_type": "code",
      "source": [
        "x1=np.linspace(-200,200,1000)\n",
        "x2=np.linspace(-200,200,1000)\n",
        "Px1_y1=(1/(desv_MovimientoDerecho[\"gX\"]*np.sqrt(2*np.pi)))*np.exp(-((x1-media_MovimientoDerecho[\"gX\"])**2)/(desv_MovimientoDerecho[\"gX\"]**2))\n",
        "plt.plot(x1,Px1_y1,'b',label='gx_Derecha')\n",
        "Px1_y2=(1/(desv_MovimientoIzquierdo[\"gX\"]*np.sqrt(2*np.pi)))*np.exp(-((x1-media_MovimientoIzquierdo[\"gX\"])**2)/(desv_MovimientoIzquierdo[\"gX\"]**2))\n",
        "plt.plot(x1,Px1_y2,'r',label='gx_Izquierda')\n",
        "Px1_y3=(1/(desv_MovimientoArriba[\"gX\"]*np.sqrt(2*np.pi)))*np.exp(-((x1-media_MovimientoArriba[\"gX\"])**2)/(desv_MovimientoArriba[\"gX\"]**2))\n",
        "plt.plot(x1,Px1_y3,'y',label='gx_Arriba')\n",
        "Px1_y4=(1/(desv_MovimientoAbajo[\"gX\"]*np.sqrt(2*np.pi)))*np.exp(-((x1-media_MovimientoAbajo[\"gX\"])**2)/(desv_MovimientoAbajo[\"gX\"]**2))\n",
        "plt.plot(x1,Px1_y4,'g',label='gx_Abajo')\n",
        "Px1_y5=(1/(desv_MovimientoEstable[\"gX\"]*np.sqrt(2*np.pi)))*np.exp(-((x1-media_MovimientoEstable[\"gX\"])**2)/(desv_MovimientoEstable[\"gX\"]**2))\n",
        "plt.plot(x1,Px1_y5,'c',label='gx_Estable')\n",
        "plt.legend()"
      ],
      "metadata": {
        "colab": {
          "base_uri": "https://localhost:8080/",
          "height": 282
        },
        "id": "SekqvLQ91Xxp",
        "outputId": "baf9e87a-324e-4dfb-d4a0-2a4d09d8e7c3"
      },
      "execution_count": null,
      "outputs": [
        {
          "output_type": "execute_result",
          "data": {
            "text/plain": [
              "<matplotlib.legend.Legend at 0x7fb5992c2f90>"
            ]
          },
          "metadata": {},
          "execution_count": 97
        },
        {
          "output_type": "display_data",
          "data": {
            "image/png": "[encoded data removed]",
            "text/plain": [
              "<Figure size 432x288 with 1 Axes>"
            ]
          },
          "metadata": {
            "needs_background": "light"
          }
        }
      ]
    },
    {
      "cell_type": "code",
      "source": [
        "x1=np.linspace(-100,100,1000)\n",
        "x2=np.linspace(-100,100,1000)\n",
        "Px1_y1=(1/(desv_MovimientoDerecho[\"gY\"]*np.sqrt(2*np.pi)))*np.exp(-((x1-media_MovimientoDerecho[\"gY\"])**2)/(desv_MovimientoDerecho[\"gY\"]**2))\n",
        "plt.plot(x1,Px1_y1,'b',label='gY_Derecha')\n",
        "Px1_y2=(1/(desv_MovimientoIzquierdo[\"gY\"]*np.sqrt(2*np.pi)))*np.exp(-((x1-media_MovimientoIzquierdo[\"gY\"])**2)/(desv_MovimientoIzquierdo[\"gY\"]**2))\n",
        "plt.plot(x1,Px1_y2,'r',label='gY_Izquierda')\n",
        "Px1_y3=(1/(desv_MovimientoArriba[\"gY\"]*np.sqrt(2*np.pi)))*np.exp(-((x1-media_MovimientoArriba[\"gY\"])**2)/(desv_MovimientoArriba[\"gY\"]**2))\n",
        "plt.plot(x1,Px1_y3,'y',label='gY_Arriba')\n",
        "Px1_y4=(1/(desv_MovimientoAbajo[\"gY\"]*np.sqrt(2*np.pi)))*np.exp(-((x1-media_MovimientoAbajo[\"gY\"])**2)/(desv_MovimientoAbajo[\"gY\"]**2))\n",
        "plt.plot(x1,Px1_y4,'g',label='gY_Abajo')\n",
        "Px1_y5=(1/(desv_MovimientoEstable[\"gY\"]*np.sqrt(2*np.pi)))*np.exp(-((x1-media_MovimientoEstable[\"gY\"])**2)/(desv_MovimientoEstable[\"gY\"]**2))\n",
        "plt.plot(x1,Px1_y5,'c',label='gY_Estable')\n",
        "plt.legend()"
      ],
      "metadata": {
        "colab": {
          "base_uri": "https://localhost:8080/",
          "height": 282
        },
        "id": "xwYan6HA7TUS",
        "outputId": "fea5e975-dcc4-4c7e-826c-4220f50e86aa"
      },
      "execution_count": null,
      "outputs": [
        {
          "output_type": "execute_result",
          "data": {
            "text/plain": [
              "<matplotlib.legend.Legend at 0x7fb5991b7250>"
            ]
          },
          "metadata": {},
          "execution_count": 98
        },
        {
          "output_type": "display_data",
          "data": {
            "image/png": "[encoded data removed]",
            "text/plain": [
              "<Figure size 432x288 with 1 Axes>"
            ]
          },
          "metadata": {
            "needs_background": "light"
          }
        }
      ]
    },
    {
      "cell_type": "code",
      "source": [
        "!pip install --upgrade micromlgen"
      ],
      "metadata": {
        "colab": {
          "base_uri": "https://localhost:8080/"
        },
        "id": "29VeXVpGCo3k",
        "outputId": "303b582b-a4d0-43f3-94ee-b3fca36573b6"
      },
      "execution_count": null,
      "outputs": [
        {
          "output_type": "stream",
          "name": "stdout",
          "text": [
            "Requirement already satisfied: micromlgen in /usr/local/lib/python3.7/dist-packages (1.1.27)\n",
            "Requirement already satisfied: jinja2 in /usr/local/lib/python3.7/dist-packages (from micromlgen) (2.11.3)\n",
            "Requirement already satisfied: MarkupSafe>=0.23 in /usr/local/lib/python3.7/dist-packages (from jinja2->micromlgen) (2.0.1)\n"
          ]
        }
      ]
    },
    {
      "cell_type": "code",
      "source": [
        "from micromlgen import port\n",
        "print(port(clasificador_DT))"
      ],
      "metadata": {
        "id": "dKcRuS6NCs65",
        "colab": {
          "base_uri": "https://localhost:8080/"
        },
        "outputId": "f78e59e9-c3f9-4010-f604-34bc8bd2a6d8"
      },
      "execution_count": null,
      "outputs": [
        {
          "output_type": "stream",
          "name": "stdout",
          "text": [
            "#pragma once\n",
            "#include <cstdarg>\n",
            "namespace Eloquent {\n",
            "    namespace ML {\n",
            "        namespace Port {\n",
            "            class DecisionTree {\n",
            "                public:\n",
            "                    /**\n",
            "                    * Predict class for features vector\n",
            "                    */\n",
            "                    int predict(float *x) {\n",
            "                        if (x[1] <= -0.15194445103406906) {\n",
            "                            return 4;\n",
            "                        }\n",
            "\n",
            "                        else {\n",
            "                            if (x[1] <= 0.1711111143231392) {\n",
            "                                if (x[0] <= -0.16511110961437225) {\n",
            "                                    return 3;\n",
            "                                }\n",
            "\n",
            "                                else {\n",
            "                                    if (x[0] <= 0.16055555641651154) {\n",
            "                                        if (x[1] <= -0.008944444358348846) {\n",
            "                                            if (x[0] <= 0.07705555483698845) {\n",
            "                                                if (x[0] <= -0.05138888955116272) {\n",
            "                                                    return 0;\n",
            "                                                }\n",
            "\n",
            "                                                else {\n",
            "                                                    if (x[0] <= 0.040166666731238365) {\n",
            "                                                        if (x[1] <= -0.0425555557012558) {\n",
            "                                                            return 1;\n",
            "                                                        }\n",
            "\n",
            "                                                        else {\n",
            "                                                            if (x[0] <= -0.030666667502373457) {\n",
            "                                                                return 1;\n",
            "                                                            }\n",
            "\n",
            "                                                            else {\n",
            "                                                                if (x[0] <= 0.03655555471777916) {\n",
            "                                                                    return 0;\n",
            "                                                                }\n",
            "\n",
            "                                                                else {\n",
            "                                                                    return 1;\n",
            "                                                                }\n",
            "                                                            }\n",
            "                                                        }\n",
            "                                                    }\n",
            "\n",
            "                                                    else {\n",
            "                                                        if (x[0] <= 0.07627777755260468) {\n",
            "                                                            if (x[1] <= -0.07455555722117424) {\n",
            "                                                                if (x[0] <= 0.04511111229658127) {\n",
            "                                                                    return 0;\n",
            "                                                                }\n",
            "\n",
            "                                                                else {\n",
            "                                                                    return 2;\n",
            "                                                                }\n",
            "                                                            }\n",
            "\n",
            "                                                            else {\n",
            "                                                                return 0;\n",
            "                                                            }\n",
            "                                                        }\n",
            "\n",
            "                                                        else {\n",
            "                                                            return 1;\n",
            "                                                        }\n",
            "                                                    }\n",
            "                                                }\n",
            "                                            }\n",
            "\n",
            "                                            else {\n",
            "                                                if (x[1] <= -0.04438888840377331) {\n",
            "                                                    return 0;\n",
            "                                                }\n",
            "\n",
            "                                                else {\n",
            "                                                    if (x[0] <= 0.10166666656732559) {\n",
            "                                                        return 0;\n",
            "                                                    }\n",
            "\n",
            "                                                    else {\n",
            "                                                        return 1;\n",
            "                                                    }\n",
            "                                                }\n",
            "                                            }\n",
            "                                        }\n",
            "\n",
            "                                        else {\n",
            "                                            if (x[0] <= 0.09466666728258133) {\n",
            "                                                if (x[1] <= 0.057722222059965134) {\n",
            "                                                    if (x[0] <= 0.0398888885974884) {\n",
            "                                                        return 1;\n",
            "                                                    }\n",
            "\n",
            "                                                    else {\n",
            "                                                        if (x[1] <= 0.035888888873159885) {\n",
            "                                                            return 2;\n",
            "                                                        }\n",
            "\n",
            "                                                        else {\n",
            "                                                            return 1;\n",
            "                                                        }\n",
            "                                                    }\n",
            "                                                }\n",
            "\n",
            "                                                else {\n",
            "                                                    if (x[0] <= 0.08327777683734894) {\n",
            "                                                        if (x[1] <= 0.11283333599567413) {\n",
            "                                                            return 2;\n",
            "                                                        }\n",
            "\n",
            "                                                        else {\n",
            "                                                            return 1;\n",
            "                                                        }\n",
            "                                                    }\n",
            "\n",
            "                                                    else {\n",
            "                                                        return 1;\n",
            "                                                    }\n",
            "                                                }\n",
            "                                            }\n",
            "\n",
            "                                            else {\n",
            "                                                return 0;\n",
            "                                            }\n",
            "                                        }\n",
            "                                    }\n",
            "\n",
            "                                    else {\n",
            "                                        if (x[0] <= 0.2068333402276039) {\n",
            "                                            if (x[0] <= 0.18666666001081467) {\n",
            "                                                return 1;\n",
            "                                            }\n",
            "\n",
            "                                            else {\n",
            "                                                if (x[1] <= -0.02483333391137421) {\n",
            "                                                    return 0;\n",
            "                                                }\n",
            "\n",
            "                                                else {\n",
            "                                                    return 1;\n",
            "                                                }\n",
            "                                            }\n",
            "                                        }\n",
            "\n",
            "                                        else {\n",
            "                                            return 1;\n",
            "                                        }\n",
            "                                    }\n",
            "                                }\n",
            "                            }\n",
            "\n",
            "                            else {\n",
            "                                return 2;\n",
            "                            }\n",
            "                        }\n",
            "                    }\n",
            "\n",
            "                protected:\n",
            "                };\n",
            "            }\n",
            "        }\n",
            "    }\n"
          ]
        }
      ]
    },
    {
      "cell_type": "markdown",
      "source": [
        "## Perceptron multicapa (MLP)"
      ],
      "metadata": {
        "id": "hrwkTxUUtdsO"
      }
    },
    {
      "cell_type": "code",
      "source": [
        "clasificador_MLP=MLPClassifier(alpha =0.4,hidden_layer_sizes=3,max_iter=1100)\n",
        "clasificador_MLP.fit(x_train,y_train)"
      ],
      "metadata": {
        "colab": {
          "base_uri": "https://localhost:8080/"
        },
        "id": "sdf0Iir8tgij",
        "outputId": "7e99d86e-78df-42cb-90c1-48499c91f99d"
      },
      "execution_count": null,
      "outputs": [
        {
          "output_type": "stream",
          "name": "stderr",
          "text": [
            "/usr/local/lib/python3.7/dist-packages/sklearn/neural_network/_multilayer_perceptron.py:696: ConvergenceWarning: Stochastic Optimizer: Maximum iterations (1100) reached and the optimization hasn't converged yet.\n",
            "  ConvergenceWarning,\n"
          ]
        },
        {
          "output_type": "execute_result",
          "data": {
            "text/plain": [
              "MLPClassifier(alpha=0.4, hidden_layer_sizes=3, max_iter=1100)"
            ]
          },
          "metadata": {},
          "execution_count": 109
        }
      ]
    },
    {
      "cell_type": "code",
      "source": [
        "print(\" Pesos : \", clasificador_MLP.coefs_)\n",
        "print(\" Interceptos : \", clasificador_MLP.intercepts_)"
      ],
      "metadata": {
        "colab": {
          "base_uri": "https://localhost:8080/"
        },
        "id": "AWB3R9iatiuu",
        "outputId": "b89de7c1-45a6-470f-bba4-3cc3463fe564"
      },
      "execution_count": null,
      "outputs": [
        {
          "output_type": "stream",
          "name": "stdout",
          "text": [
            " Pesos :  [array([[-0.40431968,  1.92319558,  2.02599925],\n",
            "       [ 2.0180819 , -0.38956833,  1.49740223]]), array([[ 0.01901607, -0.46823384,  1.57813643,  0.9643016 , -1.34862584],\n",
            "       [-0.82707116,  1.32138892, -1.08763136, -0.81138781, -0.99765682],\n",
            "       [ 0.45674416,  1.85141881,  1.08886657, -1.73145434, -0.79574155]])]\n",
            " Interceptos :  [array([0.47954237, 0.06189596, 0.6188991 ]), array([ 0.06529308, -1.30356584, -0.91611559,  0.5520441 ,  0.24513692])]\n"
          ]
        }
      ]
    },
    {
      "cell_type": "code",
      "source": [
        "clasificacion= clasificador_MLP.predict(x_test)\n",
        "mat_con=confusion_matrix(y_test,clasificacion)\n",
        "print(mat_con)\n",
        "print(accuracy_score(y_test,clasificacion))"
      ],
      "metadata": {
        "colab": {
          "base_uri": "https://localhost:8080/"
        },
        "id": "Txl9_bdttlgl",
        "outputId": "feb981ed-0e8e-461d-8759-984f314a1cbf"
      },
      "execution_count": null,
      "outputs": [
        {
          "output_type": "stream",
          "name": "stdout",
          "text": [
            "[[ 4  5  9  1  0]\n",
            " [ 0 19  0  0  0]\n",
            " [ 0  0 14  0  0]\n",
            " [ 0  0  0  9  0]\n",
            " [ 0  0  0 14  0]]\n",
            "0.6133333333333333\n"
          ]
        }
      ]
    },
    {
      "cell_type": "markdown",
      "source": [
        "## Support Vector Machines"
      ],
      "metadata": {
        "id": "TJo2_PdHtoHb"
      }
    },
    {
      "cell_type": "code",
      "source": [
        "clasificador_SVM=svm.LinearSVC(random_state=10,C=100)\n",
        "clasificador_SVM.fit(x_train,y_train)"
      ],
      "metadata": {
        "colab": {
          "base_uri": "https://localhost:8080/"
        },
        "id": "EjbS3pTltrJY",
        "outputId": "7a10fe39-0301-413a-f524-a4543b0d3b10"
      },
      "execution_count": null,
      "outputs": [
        {
          "output_type": "stream",
          "name": "stderr",
          "text": [
            "/usr/local/lib/python3.7/dist-packages/sklearn/svm/_base.py:1208: ConvergenceWarning: Liblinear failed to converge, increase the number of iterations.\n",
            "  ConvergenceWarning,\n"
          ]
        },
        {
          "output_type": "execute_result",
          "data": {
            "text/plain": [
              "LinearSVC(C=100, random_state=10)"
            ]
          },
          "metadata": {},
          "execution_count": 112
        }
      ]
    },
    {
      "cell_type": "code",
      "source": [
        "clasificador_SVM.coef_"
      ],
      "metadata": {
        "colab": {
          "base_uri": "https://localhost:8080/"
        },
        "id": "BXZl-g_nts5m",
        "outputId": "79d917ce-181e-40c7-b888-743d565fc30d"
      },
      "execution_count": null,
      "outputs": [
        {
          "output_type": "execute_result",
          "data": {
            "text/plain": [
              "array([[  0.18166196,  -0.06437895],\n",
              "       [ 17.99031679,  -1.78156967],\n",
              "       [ -0.37375518,  15.94111192],\n",
              "       [-12.39427713,   1.68403596],\n",
              "       [ -1.54329019, -11.88775656]])"
            ]
          },
          "metadata": {},
          "execution_count": 114
        }
      ]
    },
    {
      "cell_type": "code",
      "source": [
        "clasificador_SVM.intercept_"
      ],
      "metadata": {
        "colab": {
          "base_uri": "https://localhost:8080/"
        },
        "id": "Wmt4zU92tuKX",
        "outputId": "af035b94-d7d5-40ec-d259-26af520e2791"
      },
      "execution_count": null,
      "outputs": [
        {
          "output_type": "execute_result",
          "data": {
            "text/plain": [
              "array([-0.63914473, -3.418102  , -2.89305527, -2.75572861, -2.25032956])"
            ]
          },
          "metadata": {},
          "execution_count": 115
        }
      ]
    },
    {
      "cell_type": "code",
      "source": [
        "resultados=clasificador_SVM.predict(X)\n",
        "print(confusion_matrix(y,resultados))\n",
        "print(accuracy_score(y,resultados))"
      ],
      "metadata": {
        "colab": {
          "base_uri": "https://localhost:8080/"
        },
        "id": "CZZIbeqpt0WX",
        "outputId": "d5ea9fea-42ea-435f-fba9-908e2d96977a"
      },
      "execution_count": null,
      "outputs": [
        {
          "output_type": "stream",
          "name": "stdout",
          "text": [
            "[[48  2  0  0  0]\n",
            " [ 0 50  0  0  0]\n",
            " [ 0  0 50  0  0]\n",
            " [ 0  0  0 50  0]\n",
            " [ 0  0  0  0 50]]\n",
            "0.992\n"
          ]
        }
      ]
    },
    {
      "cell_type": "markdown",
      "source": [
        "## Regresion logística"
      ],
      "metadata": {
        "id": "V3wEzN42t7Qy"
      }
    },
    {
      "cell_type": "code",
      "source": [
        "clasificador_LR=LogisticRegression(max_iter = 1000)\n",
        "clasificador_LR.fit(x_train,y_train)"
      ],
      "metadata": {
        "colab": {
          "base_uri": "https://localhost:8080/"
        },
        "id": "HIC00_oft3lH",
        "outputId": "17106f11-f1e3-4e04-aefb-80ad34c296b6"
      },
      "execution_count": null,
      "outputs": [
        {
          "output_type": "execute_result",
          "data": {
            "text/plain": [
              "LogisticRegression(max_iter=1000)"
            ]
          },
          "metadata": {},
          "execution_count": 122
        }
      ]
    },
    {
      "cell_type": "code",
      "source": [
        "#Coeficientes del modelo\n",
        "print(\"Coeficientes : \\n\",clasificador_LR.coef_)\n",
        "print(\"Sesgos : \\n\", clasificador_LR.intercept_)"
      ],
      "metadata": {
        "colab": {
          "base_uri": "https://localhost:8080/"
        },
        "id": "e_8bhZP1t2ba",
        "outputId": "7255dbb2-611b-4337-b9e3-c535e287d1e7"
      },
      "execution_count": null,
      "outputs": [
        {
          "output_type": "stream",
          "name": "stdout",
          "text": [
            "Coeficientes : \n",
            " [[ 0.22113168 -0.08561219]\n",
            " [ 4.50314818 -0.50125809]\n",
            " [ 0.78414137  4.75232379]\n",
            " [-4.92205106  0.71467611]\n",
            " [-0.58637017 -4.88012962]]\n",
            "Sesgos : \n",
            " [ 0.36648623  0.01525616 -0.09050617 -0.11073842 -0.1804978 ]\n"
          ]
        }
      ]
    },
    {
      "cell_type": "code",
      "source": [
        "clasificacion= clasificador_LR.predict(x_test)\n",
        "mat_con=confusion_matrix(y_test,clasificacion)\n",
        "print(mat_con)\n",
        "print(accuracy_score(y_test,clasificacion))"
      ],
      "metadata": {
        "colab": {
          "base_uri": "https://localhost:8080/"
        },
        "id": "v1lcIZvKuD-X",
        "outputId": "1a1b2522-b979-45d3-cdc5-725d7aaf9f2b"
      },
      "execution_count": null,
      "outputs": [
        {
          "output_type": "stream",
          "name": "stdout",
          "text": [
            "[[ 9  7  0  3  0]\n",
            " [ 0 19  0  0  0]\n",
            " [ 0  0 14  0  0]\n",
            " [ 0  0  0  9  0]\n",
            " [ 0  0  0  0 14]]\n",
            "0.8666666666666667\n"
          ]
        }
      ]
    },
    {
      "cell_type": "code",
      "source": [
        "clasificador_SVM=svm.LinearSVC(random_state=10,C=100)\n",
        "clasificador_SVM.fit(x_train,y_train)"
      ],
      "metadata": {
        "colab": {
          "base_uri": "https://localhost:8080/"
        },
        "id": "V-6MAoNtZk3q",
        "outputId": "86ce4dce-41c6-41ad-a59b-bd89ad786f60"
      },
      "execution_count": null,
      "outputs": [
        {
          "output_type": "stream",
          "name": "stderr",
          "text": [
            "/usr/local/lib/python3.7/dist-packages/sklearn/svm/_base.py:1208: ConvergenceWarning: Liblinear failed to converge, increase the number of iterations.\n",
            "  ConvergenceWarning,\n"
          ]
        },
        {
          "output_type": "execute_result",
          "data": {
            "text/plain": [
              "LinearSVC(C=100, random_state=10)"
            ]
          },
          "metadata": {},
          "execution_count": 120
        }
      ]
    },
    {
      "cell_type": "code",
      "source": [
        "resultados=clasificador_SVM.predict(X)\n",
        "print(confusion_matrix(y,resultados))\n",
        "print(accuracy_score(y,resultados))"
      ],
      "metadata": {
        "colab": {
          "base_uri": "https://localhost:8080/"
        },
        "id": "KbZTWKIBZniZ",
        "outputId": "f32dda6f-048c-4051-dc75-c6af34d8434d"
      },
      "execution_count": null,
      "outputs": [
        {
          "output_type": "stream",
          "name": "stdout",
          "text": [
            "[[48  2  0  0  0]\n",
            " [ 0 50  0  0  0]\n",
            " [ 0  0 50  0  0]\n",
            " [ 0  0  0 50  0]\n",
            " [ 0  0  0  0 50]]\n",
            "0.992\n"
          ]
        }
      ]
    },
    {
      "cell_type": "code",
      "source": [
        "#print(port(clasificador_SVM))"
      ],
      "metadata": {
        "colab": {
          "base_uri": "https://localhost:8080/",
          "height": 272
        },
        "id": "xs48g1xPZpdt",
        "outputId": "9b29f548-8f92-4399-e4e4-3c5dee2e666a"
      },
      "execution_count": null,
      "outputs": [
        {
          "output_type": "error",
          "ename": "TypeError",
          "evalue": "ignored",
          "traceback": [
            "\u001b[0;31m---------------------------------------------------------------------------\u001b[0m",
            "\u001b[0;31mTypeError\u001b[0m                                 Traceback (most recent call last)",
            "\u001b[0;32m<ipython-input-36-ed3e139bcf94>\u001b[0m in \u001b[0;36m<module>\u001b[0;34m()\u001b[0m\n\u001b[0;32m----> 1\u001b[0;31m \u001b[0mprint\u001b[0m\u001b[0;34m(\u001b[0m\u001b[0mport\u001b[0m\u001b[0;34m(\u001b[0m\u001b[0mclasificador_SVM\u001b[0m\u001b[0;34m)\u001b[0m\u001b[0;34m)\u001b[0m\u001b[0;34m\u001b[0m\u001b[0;34m\u001b[0m\u001b[0m\n\u001b[0m",
            "\u001b[0;32m/usr/local/lib/python3.7/dist-packages/micromlgen/micromlgen.py\u001b[0m in \u001b[0;36mport\u001b[0;34m(clf, classname, classmap, platform, precision, **kwargs)\u001b[0m\n\u001b[1;32m     51\u001b[0m     \u001b[0;32melif\u001b[0m \u001b[0mis_randomforest_regressor\u001b[0m\u001b[0;34m(\u001b[0m\u001b[0mclf\u001b[0m\u001b[0;34m)\u001b[0m\u001b[0;34m:\u001b[0m\u001b[0;34m\u001b[0m\u001b[0;34m\u001b[0m\u001b[0m\n\u001b[1;32m     52\u001b[0m         \u001b[0;32mreturn\u001b[0m \u001b[0mport_randomforest_regressor\u001b[0m\u001b[0;34m(\u001b[0m\u001b[0;34m**\u001b[0m\u001b[0mlocals\u001b[0m\u001b[0;34m(\u001b[0m\u001b[0;34m)\u001b[0m\u001b[0;34m,\u001b[0m \u001b[0;34m**\u001b[0m\u001b[0mkwargs\u001b[0m\u001b[0;34m)\u001b[0m\u001b[0;34m\u001b[0m\u001b[0;34m\u001b[0m\u001b[0m\n\u001b[0;32m---> 53\u001b[0;31m     \u001b[0;32mraise\u001b[0m \u001b[0mTypeError\u001b[0m\u001b[0;34m(\u001b[0m\u001b[0;34m'clf MUST be one of %s'\u001b[0m \u001b[0;34m%\u001b[0m \u001b[0;34m', '\u001b[0m\u001b[0;34m.\u001b[0m\u001b[0mjoin\u001b[0m\u001b[0;34m(\u001b[0m\u001b[0mplatforms\u001b[0m\u001b[0;34m.\u001b[0m\u001b[0mALLOWED_CLASSIFIERS\u001b[0m\u001b[0;34m)\u001b[0m\u001b[0;34m)\u001b[0m\u001b[0;34m\u001b[0m\u001b[0;34m\u001b[0m\u001b[0m\n\u001b[0m",
            "\u001b[0;31mTypeError\u001b[0m: clf MUST be one of SVC, OneClassSVM, RVC, SEFR, DecisionTreeClassifier, DecisionTreeRegressor, RandomForestClassifier, RandomForestRegressor, GaussianNB, LogisticRegression, PCA, PrincipalFFT, LinearRegression, XGBClassifier"
          ]
        }
      ]
    }
  ]
}